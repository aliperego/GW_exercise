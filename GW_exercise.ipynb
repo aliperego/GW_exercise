{
 "cells": [
  {
   "cell_type": "markdown",
   "id": "1a7a6ae2",
   "metadata": {},
   "source": [
    "### GW waveform : parameter estimation\n",
    "$$ S(t) = h(t) + n(t) \\quad h(t,A,f_0,\\phi_0) = A sin(2\\pi f_0t + \\phi_0) $$\n",
    "- $n(t)$ is gaussian\n",
    "- $S_n(f) = 10^{-42} Hz^{-1}$\n",
    "- $ T = 10^8 s$\n",
    "- $ A = 10^{-22} s$\n",
    "- $ f = 10^{-2} Hz$\n",
    "- $\\phi_0 = \\pi$\n",
    "\n",
    "To what precision you can measure $A,f_0,\\phi_0$ ?\n",
    "What happens if you change $ A (10^{-23} ,10^{-21}), T (10^{7} ,10^{9}), f(10^{-3}) $ ?\n"
   ]
  },
  {
   "cell_type": "code",
   "execution_count": 1,
   "id": "aaf5658c",
   "metadata": {},
   "outputs": [],
   "source": [
    "import sympy as sp\n",
    "import numpy as np\n",
    "import math\n",
    "from sympy import *"
   ]
  },
  {
   "cell_type": "code",
   "execution_count": 2,
   "id": "3880aac7",
   "metadata": {},
   "outputs": [],
   "source": [
    "def compute_SNR(SNR,A_v, f0_v, phi0_v, T_v, Sn_v):\n",
    "    SNR = SNR.subs([(A, A_v),(f0, f0_v),(phi0, phi0_v),(T,T_v), (Sn,Sn_v)])\n",
    "    return SNR\n",
    "    \n",
    "\n",
    "def compute_err(F,A_v, f0_v, phi0_v, T_v, Sn_v):\n",
    "        \n",
    "    F_v = Matrix(3, 3, lambda i,j: F[i,j].subs([(A, A_v),(f0, f0_v),(phi0, phi0_v),(T,T_v), (Sn,Sn_v)]))\n",
    "    Sigma = F_v.inv()\n",
    "    cov = Sigma.evalf()\n",
    "    err_abs = np.array([(cov[i,i])**(1/2) for i in range(3)])\n",
    "    err_rel = err_abs/[A_v, f0_v, phi0_v]\n",
    "    \n",
    "    return err_abs.astype(np.float64), err_rel.astype(np.float64)"
   ]
  },
  {
   "cell_type": "code",
   "execution_count": 3,
   "id": "94ab5a98",
   "metadata": {},
   "outputs": [
    {
     "name": "stdout",
     "output_type": "stream",
     "text": [
      "S/N : 1000\n",
      "Abs error :  [1.000e-25 5.513e-12 2.000e-03]\n",
      "Rel error :  [1.000e-03 5.513e-10 6.366e-04]\n"
     ]
    }
   ],
   "source": [
    "t, A, f0, phi0, T, Sn = sp.symbols('t A f0 phi0 T Sn')\n",
    "h = A*sin(2*pi*f0*t + phi0)\n",
    "\n",
    "A_v = 10**(-22)\n",
    "f0_v = 10**(-2)\n",
    "phi0_v = pi\n",
    "T_v = 10**8\n",
    "Sn_v = 10**(-42)\n",
    "\n",
    "SNR = (integrate((2/Sn)*h*h,(t,0,T)))**(1/2)\n",
    "par = [A, f0, phi0]\n",
    "D = Matrix([diff(h,par[i]) for i in range(3)])\n",
    "F = Matrix(3, 3, lambda i,j: integrate((2/Sn)*D[i]*D[j],(t,0,T)))\n",
    "\n",
    "SNR_v = compute_SNR(SNR, A_v, f0_v, phi0_v, T_v, Sn_v)\n",
    "print('S/N : %.0f' %SNR_v)\n",
    "\n",
    "err_abs, err_rel = compute_err(F, A_v, f0_v, phi0_v, T_v, Sn_v)\n",
    "print('Abs error : ', np.array_str(err_abs, precision=3))\n",
    "print('Rel error : ', np.array_str(err_rel, precision=3))"
   ]
  },
  {
   "cell_type": "markdown",
   "id": "11ab00ce",
   "metadata": {},
   "source": [
    "### Change A"
   ]
  },
  {
   "cell_type": "code",
   "execution_count": 4,
   "id": "6b379caf",
   "metadata": {},
   "outputs": [
    {
     "name": "stdout",
     "output_type": "stream",
     "text": [
      "A  = 1.000e-23\n",
      "S/N : 100\n",
      "Abs error :  [1.000e-25 5.513e-11 2.000e-02]\n",
      "Rel error :  [1.000e-02 5.513e-09 6.366e-03]\n",
      "\n",
      "\n",
      "A  = 1.000e-21\n",
      "S/N : 10000\n",
      "Abs error :  [1.000e-25 5.513e-13 2.000e-04]\n",
      "Rel error :  [1.000e-04 5.513e-11 6.366e-05]\n",
      "\n",
      "\n",
      "By increasing A: the S/N increases linearly and the relative error on the parameters decreases linearly\n"
     ]
    }
   ],
   "source": [
    "A_v1 = 10**(-23)\n",
    "A_v2 = 10**(-21)\n",
    "\n",
    "err_abs, err_rel = compute_err(F, A_v1, f0_v, phi0_v, T_v, Sn_v)\n",
    "SNR_v = compute_SNR(SNR, A_v1, f0_v, phi0_v, T_v, Sn_v)\n",
    "\n",
    "print(A, ' = %.3e' %A_v1)\n",
    "print('S/N : %.0f' %SNR_v)\n",
    "print('Abs error : ', np.array_str(err_abs, precision=3))\n",
    "print('Rel error : ', np.array_str(err_rel, precision=3))\n",
    "print('\\n')\n",
    "\n",
    "err_abs, err_rel = compute_err(F, A_v2, f0_v, phi0_v, T_v, Sn_v)\n",
    "\n",
    "SNR_v = compute_SNR(SNR, A_v2, f0_v, phi0_v, T_v, Sn_v)\n",
    "print(A, ' = %.3e' %A_v2)\n",
    "print('S/N : %.0f' %SNR_v)\n",
    "print('Abs error : ', np.array_str(err_abs, precision=3))\n",
    "print('Rel error : ', np.array_str(err_rel, precision=3))\n",
    "print('\\n')\n",
    "\n",
    "print('By increasing A: the S/N increases linearly and the relative error on the parameters decreases linearly')"
   ]
  },
  {
   "cell_type": "markdown",
   "id": "8daadc07",
   "metadata": {},
   "source": [
    "### Change T"
   ]
  },
  {
   "cell_type": "code",
   "execution_count": 5,
   "id": "edeca9ea",
   "metadata": {},
   "outputs": [
    {
     "name": "stdout",
     "output_type": "stream",
     "text": [
      "T  = 1e+07\n",
      "S/N : 316.2\n",
      "Abs error :  [3.162e-25 1.743e-10 6.325e-03]\n",
      "Rel error :  [3.162e-03 1.743e-08 2.013e-03]\n",
      "\n",
      "\n",
      "T  = 1e+09\n",
      "S/N : 3162\n",
      "Abs error :  [3.162e-26 1.743e-13 6.325e-04]\n",
      "Rel error :  [3.162e-04 1.743e-11 2.013e-04]\n",
      "\n",
      "\n",
      "By increasing T: the S/N increases and the error on the parameters decreases, both as T^1/2,  because the error on the parameters follow the scaling of the SNR\n"
     ]
    }
   ],
   "source": [
    "T_v1 = 10**7\n",
    "T_v2 = 10**9\n",
    "\n",
    "err_abs, err_rel = compute_err(F, A_v, f0_v, phi0_v, T_v1, Sn_v)\n",
    "SNR_v = compute_SNR(SNR, A_v, f0_v, phi0_v, T_v1, Sn_v)\n",
    "\n",
    "print(T, ' = %.0e' %T_v1)\n",
    "print('S/N : %.1f' %SNR_v)\n",
    "print('Abs error : ', np.array_str(err_abs, precision=3))\n",
    "print('Rel error : ', np.array_str(err_rel, precision=3))\n",
    "print('\\n')\n",
    "\n",
    "err_abs, err_rel = compute_err(F, A_v, f0_v, phi0_v, T_v2, Sn_v)\n",
    "SNR_v = compute_SNR(SNR, A_v, f0_v, phi0_v, T_v2, Sn_v)\n",
    "\n",
    "print(T, ' = %.0e' %T_v2)\n",
    "print('S/N : %.0f' %SNR_v)\n",
    "print('Abs error : ', np.array_str(err_abs, precision=3))\n",
    "print('Rel error : ', np.array_str(err_rel, precision=3))\n",
    "print('\\n')\n",
    "\n",
    "print('By increasing T: the S/N increases and the error on the parameters decreases, both as T^1/2,  because the error on the parameters follow the scaling of the SNR')"
   ]
  },
  {
   "cell_type": "markdown",
   "id": "a085eed3",
   "metadata": {},
   "source": [
    "### Change f"
   ]
  },
  {
   "cell_type": "code",
   "execution_count": 6,
   "id": "3cfb21c8",
   "metadata": {},
   "outputs": [
    {
     "name": "stdout",
     "output_type": "stream",
     "text": [
      "f0  = 1e-03\n",
      "S/N : 1000\n",
      "Abs error :  [1.000e-25 5.513e-12 2.000e-03]\n",
      "Rel error :  [1.000e-03 5.513e-09 6.366e-04]\n",
      "\n",
      "\n",
      "By decreasing the frequency: the S/N and the error on the parameters do not change\n"
     ]
    }
   ],
   "source": [
    "f0_v1 = 10**-3\n",
    "\n",
    "err_abs, err_rel = compute_err(F, A_v, f0_v1, phi0_v, T_v, Sn_v)\n",
    "SNR_v = compute_SNR(SNR, A_v, f0_v1, phi0_v, T_v, Sn_v)\n",
    "\n",
    "print(f0, ' = %.0e' %f0_v1)\n",
    "print('S/N : %.0f' %SNR_v)\n",
    "print('Abs error : ', np.array_str(err_abs, precision=3))\n",
    "print('Rel error : ', np.array_str(err_rel, precision=3))\n",
    "print('\\n')\n",
    "\n",
    "print('By decreasing the frequency: the S/N and the error on the parameters do not change')"
   ]
  }
 ],
 "metadata": {
  "kernelspec": {
   "display_name": "Python 3 (ipykernel)",
   "language": "python",
   "name": "python3"
  },
  "language_info": {
   "codemirror_mode": {
    "name": "ipython",
    "version": 3
   },
   "file_extension": ".py",
   "mimetype": "text/x-python",
   "name": "python",
   "nbconvert_exporter": "python",
   "pygments_lexer": "ipython3",
   "version": "3.10.12"
  }
 },
 "nbformat": 4,
 "nbformat_minor": 5
}
